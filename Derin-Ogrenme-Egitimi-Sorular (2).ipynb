{
 "cells": [
  {
   "cell_type": "markdown",
   "metadata": {},
   "source": [
    "# Derin Ogrenme Egitimi Soru Sayfası"
   ]
  },
  {
   "cell_type": "markdown",
   "metadata": {},
   "source": [
    "Merhaba değerli katılımcı, kursa başvurun için ilk önce bu repoyu bilgisayarına indirip jupyter notebook ile çalıştırman gerekiyor, bu işlemleri tamamlaman için sana hiçbir yönerge vermiyoruz, çünkü burada amacımız hali hazırda senin bu işlemleri bilip bilmediğini yahut bunları kendi başına öğrenebiliyor musun buna bakmak. Hazırsan senin için de her şeyi hazırladık.\n"
   ]
  },
  {
   "cell_type": "markdown",
   "metadata": {},
   "source": [
    "Bu test sayfası bir akış halinde hazırlandı, cevaplayabildiğin soruları cevapladıktan sonra kaydedip bize göndermen gerekiyor.\n",
    "Hepsini tamamlamak zorunda değilsin, fakat yapamadığın kısımlar üzerinde araştırarak yeni şeylere ne kadar iyi adapte oluyorsun bunu da görmüş olacaksın.\n",
    "\n",
    "Eğer şuan buradaysan zaten yolun büyük bir kısmını halletmişsin demektir, dosyanı sağ üst taraftaki file menüsünde \"download as\" sekmesinden \".ipynb\" uzantılı olarak indirdikten sonra [Uludag Deep Learning mail adresi](mailto:uludagdeeplearning@gmail.com) gönderebilirsin. Eğer github sayfası açıp ödevini oraya yükledikten sonra ilgili linki bize gönderirsen ekstra puan alacaksın. \n",
    "\n",
    "Ödevin son kısmında opsiyonel bir bölüm daha var, gerçekten zor bir bölüm olduğundan emin olabilirsin, son bölümü seçiciliği artırmak için koyuyoruz, şayet çözersen bu senin için ekstra puan demek.\n",
    "\n",
    "Buradaki her bir satıra hücre deniyor, shift+enter kombinasyonuyla hücreleri çalıştırabilirsin. \"Sen zaten bunu biz söylemeden de basitçe çözebilirdin.\""
   ]
  },
  {
   "cell_type": "code",
   "execution_count": 1,
   "metadata": {},
   "outputs": [
    {
     "name": "stdout",
     "output_type": "stream",
     "text": [
      "Isminizi Girin= Ahmet Can Gümüş\n"
     ]
    }
   ],
   "source": [
    "isim = input(\"Isminizi Girin= \")"
   ]
  },
  {
   "cell_type": "code",
   "execution_count": 2,
   "metadata": {},
   "outputs": [
    {
     "name": "stdout",
     "output_type": "stream",
     "text": [
      "Hosgeldin Ahmet Can Gümüş, öncelikle burada olduğun için çok mutluyuz, seni bu test ile karşılaştırdığımız için biz de üzgünüz fakat adil bir seçim yapmamız gerekiyor.\n"
     ]
    }
   ],
   "source": [
    "print(\"Hosgeldin {}, öncelikle burada olduğun için çok mutluyuz, seni bu test ile karşılaştırdığımız için biz de üzgünüz fakat adil bir seçim yapmamız gerekiyor.\".format(isim))"
   ]
  },
  {
   "cell_type": "markdown",
   "metadata": {},
   "source": [
    "## Python"
   ]
  },
  {
   "cell_type": "code",
   "execution_count": 3,
   "metadata": {},
   "outputs": [],
   "source": [
    "#İleri kullanacağımız fonksiyonlar için bu hücreyi çalıştırın\n",
    "\n",
    "import numpy as np\n",
    "import math"
   ]
  },
  {
   "cell_type": "markdown",
   "metadata": {},
   "source": [
    "### Soru 0:\n",
    "\n",
    "Python Versiyonunuzu Yazdırın."
   ]
  },
  {
   "cell_type": "code",
   "execution_count": 4,
   "metadata": {},
   "outputs": [
    {
     "name": "stdout",
     "output_type": "stream",
     "text": [
      "3.7.1 (default, Dec 10 2018, 22:54:23) [MSC v.1915 64 bit (AMD64)]\n"
     ]
    }
   ],
   "source": [
    "#Kodun buraya gelecek\n",
    "import sys\n",
    "print(sys.version)"
   ]
  },
  {
   "cell_type": "markdown",
   "metadata": {},
   "source": [
    "### Soru 1:\n",
    "\n",
    "Telefon numaranızın son hanesindeki rakamdan başlayarak, son iki hanesindeki sayıya kadar devam eden bir liste oluşturun, bu listedeki sayıların ortalamasını ve toplamını yazdırın. (son iki hane sayısı 10'dan küçük olanlar için verilecek değer 70'dir.)"
   ]
  },
  {
   "cell_type": "code",
   "execution_count": 5,
   "metadata": {},
   "outputs": [
    {
     "name": "stdout",
     "output_type": "stream",
     "text": [
      "Telefon Numarınızı Girin= 05366366417\n"
     ]
    }
   ],
   "source": [
    "no = int(input(\"Telefon Numarınızı Girin= \"))"
   ]
  },
  {
   "cell_type": "markdown",
   "metadata": {},
   "source": [
    "### Cevap 1:"
   ]
  },
  {
   "cell_type": "code",
   "execution_count": 6,
   "metadata": {},
   "outputs": [
    {
     "name": "stdout",
     "output_type": "stream",
     "text": [
      "Listedeki sayıların toplamı: 132\n",
      "Listedeki sayıların ortalaması: 12.0\n"
     ]
    }
   ],
   "source": [
    "b=list (range(7,18))\n",
    "toplam = 0\n",
    "for i in b :\n",
    "    toplam = toplam + i\n",
    " \n",
    "print('Listedeki sayıların toplamı:',toplam)\n",
    "print('Listedeki sayıların ortalaması:',toplam / len(b))"
   ]
  },
  {
   "cell_type": "markdown",
   "metadata": {},
   "source": [
    "### Soru 2:"
   ]
  },
  {
   "cell_type": "markdown",
   "metadata": {},
   "source": [
    "Alt satırdaki yazi degiskeni olan hücreyi çalıştırın ve for döngüsüyle bu yazının her harfini bir listeye eleman olarak aktarın.\n",
    "\n",
    "Not: Boşluklar ve noktalama işaretlerini listeye almamalısınız."
   ]
  },
  {
   "cell_type": "code",
   "execution_count": 148,
   "metadata": {},
   "outputs": [],
   "source": [
    "yazi = \"uludag deeplearning teknik bir topluluktur.\""
   ]
  },
  {
   "cell_type": "markdown",
   "metadata": {},
   "source": [
    "### Cevap 2:"
   ]
  },
  {
   "cell_type": "code",
   "execution_count": 149,
   "metadata": {},
   "outputs": [
    {
     "name": "stdout",
     "output_type": "stream",
     "text": [
      "['u']\n",
      "['l']\n",
      "['u']\n",
      "['d']\n",
      "['a']\n",
      "['g']\n",
      "['d']\n",
      "['e']\n",
      "['e']\n",
      "['p']\n",
      "['l']\n",
      "['e']\n",
      "['a']\n",
      "['r']\n",
      "['n']\n",
      "['i']\n",
      "['n']\n",
      "['g']\n",
      "['t']\n",
      "['e']\n",
      "['k']\n",
      "['n']\n",
      "['i']\n",
      "['k']\n",
      "['b']\n",
      "['i']\n",
      "['r']\n",
      "['t']\n",
      "['o']\n",
      "['p']\n",
      "['l']\n",
      "['u']\n",
      "['l']\n",
      "['u']\n",
      "['k']\n",
      "['t']\n",
      "['u']\n",
      "['r']\n"
     ]
    }
   ],
   "source": [
    "yazi.split()\n",
    "yazi = \"\".join(yazi.split())\n",
    "i = []\n",
    "harf = []\n",
    "for harf in range(len(yazi)-1):\n",
    "    i = (yazi[harf])\n",
    "    i1 = list(i)\n",
    "    print(i1)\n",
    "      \n",
    "   \n",
    "    \n",
    " "
   ]
  },
  {
   "cell_type": "markdown",
   "metadata": {},
   "source": [
    "### Soru 3:\n",
    "\n",
    "Sigmoid fonksiyonunu, sigmoid adını verdiğiniz fonksiyonla tanımlayınız."
   ]
  },
  {
   "cell_type": "markdown",
   "metadata": {},
   "source": [
    "![sigmoid](sigmoid.jpg)"
   ]
  },
  {
   "cell_type": "code",
   "execution_count": 150,
   "metadata": {},
   "outputs": [],
   "source": [
    "# Örnek: \n",
    "def fonk_ornek(girdi):\n",
    "    pass #Burası koduna dahil olmayacak.\n",
    "    sonuc = islem1*islem2/girdi\n",
    "    return sonuc"
   ]
  },
  {
   "cell_type": "markdown",
   "metadata": {},
   "source": [
    "### Cevap 3:"
   ]
  },
  {
   "cell_type": "code",
   "execution_count": 151,
   "metadata": {},
   "outputs": [],
   "source": [
    "import math\n",
    "def fonk_sigmoid(x):\n",
    "    sonuc = 1 / (1 + math.exp(-x))\n",
    "    return sonuc"
   ]
  },
  {
   "cell_type": "markdown",
   "metadata": {},
   "source": [
    "## Numpy"
   ]
  },
  {
   "cell_type": "markdown",
   "metadata": {},
   "source": [
    "### Soru 1:\n",
    "\n",
    "5x5 boyutunda, sıfırlar, birler matrislerini oluşturun."
   ]
  },
  {
   "cell_type": "markdown",
   "metadata": {},
   "source": [
    "### Cevap 1:"
   ]
  },
  {
   "cell_type": "code",
   "execution_count": 152,
   "metadata": {},
   "outputs": [
    {
     "name": "stdout",
     "output_type": "stream",
     "text": [
      "[[1. 1. 1. 1. 1.]\n",
      " [1. 1. 1. 1. 1.]\n",
      " [1. 1. 1. 1. 1.]\n",
      " [1. 1. 1. 1. 1.]\n",
      " [1. 1. 1. 1. 1.]]\n",
      "\n",
      "[[0. 0. 0. 0. 0.]\n",
      " [0. 0. 0. 0. 0.]\n",
      " [0. 0. 0. 0. 0.]\n",
      " [0. 0. 0. 0. 0.]\n",
      " [0. 0. 0. 0. 0.]]\n"
     ]
    }
   ],
   "source": [
    "Birler = np.ones((5,5))\n",
    "print (Birler)\n",
    "print()\n",
    "Sıfırlar = np.zeros((5,5))\n",
    "print (Sıfırlar)"
   ]
  },
  {
   "cell_type": "markdown",
   "metadata": {},
   "source": [
    "### Soru 2:"
   ]
  },
  {
   "cell_type": "markdown",
   "metadata": {},
   "source": [
    "İki farklı 5x5 random sayılardan oluşan iki matris oluşturun. Bu matrisleri matris çarpımı yöntemiyle çarpın"
   ]
  },
  {
   "cell_type": "code",
   "execution_count": 153,
   "metadata": {},
   "outputs": [
    {
     "name": "stdout",
     "output_type": "stream",
     "text": [
      "[[0.00635504 0.44345788 0.61485418 0.78551314 0.31904219]\n",
      " [0.17792639 0.17533814 0.63958236 0.61393423 0.83354627]\n",
      " [0.17846068 0.30940362 0.91140839 0.63161893 0.37799767]\n",
      " [0.61113969 0.4281879  0.49180692 0.12281645 0.09346215]\n",
      " [0.95975821 0.06175027 0.18820011 0.90562669 0.38656878]]\n",
      "\n",
      "[[0.54065991 0.33097873 0.16260353 0.64289128 0.07263188]\n",
      " [0.28269853 0.71259695 0.04264541 0.84051608 0.115179  ]\n",
      " [0.13264067 0.80208665 0.28569862 0.39556889 0.30340328]\n",
      " [0.66754731 0.13033864 0.9218807  0.99765255 0.78821593]\n",
      " [0.21895063 0.1334096  0.07432599 0.03831086 0.26965046]]\n",
      "\n",
      "[[0.80457715 0.95622245 0.94347031 1.41592823 0.94327124]\n",
      " [0.82293575 0.88805817 0.84706489 1.15918765 0.93584866]\n",
      " [0.80924265 1.14332813 0.91297345 1.37993198 0.92490238]\n",
      " [0.6191498  0.93034787 0.37831106 1.07344747 0.36493031]\n",
      " [1.25051061 0.68222553 1.07607382 1.66167893 0.95198974]]\n"
     ]
    }
   ],
   "source": [
    "Random1 = np.random.random((5,5))\n",
    "print(Random1)\n",
    "print()\n",
    "Random2 = np.random.random((5,5))\n",
    "print(Random2)\n",
    "print()\n",
    "Carpim = np.dot(Random1,Random2)\n",
    "print(Carpim)"
   ]
  },
  {
   "cell_type": "markdown",
   "metadata": {},
   "source": [
    "### Soru 3:\n",
    "\n",
    "100 Uzunluklu bir liste oluşturun, önce tek ve çift sayıları döngülerle tek ve çift adlı iki listeye ayırın, bu iki listeyi 5x10 boyutunda iki matris haline getirin."
   ]
  },
  {
   "cell_type": "markdown",
   "metadata": {},
   "source": [
    "### Cevap 3:"
   ]
  },
  {
   "cell_type": "code",
   "execution_count": 154,
   "metadata": {},
   "outputs": [
    {
     "name": "stdout",
     "output_type": "stream",
     "text": [
      "çift liste:  [0, 2, 4, 6, 8, 10, 12, 14, 16, 18, 20, 22, 24, 26, 28, 30, 32, 34, 36, 38, 40, 42, 44, 46, 48, 50, 52, 54, 56, 58, 60, 62, 64, 66, 68, 70, 72, 74, 76, 78, 80, 82, 84, 86, 88, 90, 92, 94, 96, 98]\n",
      "\n",
      "tek liste:  [1, 3, 5, 7, 9, 11, 13, 15, 17, 19, 21, 23, 25, 27, 29, 31, 33, 35, 37, 39, 41, 43, 45, 47, 49, 51, 53, 55, 57, 59, 61, 63, 65, 67, 69, 71, 73, 75, 77, 79, 81, 83, 85, 87, 89, 91, 93, 95, 97, 99]\n",
      "\n",
      "[[ 1  3  5  7  9 11 13 15 17 19]\n",
      " [21 23 25 27 29 31 33 35 37 39]\n",
      " [41 43 45 47 49 51 53 55 57 59]\n",
      " [61 63 65 67 69 71 73 75 77 79]\n",
      " [81 83 85 87 89 91 93 95 97 99]]\n",
      "\n",
      "[[ 0  2  4  6  8 10 12 14 16 18]\n",
      " [20 22 24 26 28 30 32 34 36 38]\n",
      " [40 42 44 46 48 50 52 54 56 58]\n",
      " [60 62 64 66 68 70 72 74 76 78]\n",
      " [80 82 84 86 88 90 92 94 96 98]]\n"
     ]
    }
   ],
   "source": [
    "a = list(range(0,100))\n",
    "tek_liste = []\n",
    "cift_liste = []\n",
    "for i in a:\n",
    "    if i %2 == 0:\n",
    "        cift_liste += [i]\n",
    "    elif i %2 != 0:\n",
    "        tek_liste +=[i]\n",
    "print('çift liste: ',cift_liste)\n",
    "print()\n",
    "print('tek liste: ',tek_liste)\n",
    "tek_matris = np.array(tek_liste)\n",
    "tek_matris.shape = (5,10)\n",
    "print()\n",
    "print(tek_matris)\n",
    "cift_matris = np.array(cift_liste)\n",
    "cift_matris.shape = (5,10)\n",
    "print()\n",
    "print(cift_matris)\n"
   ]
  },
  {
   "cell_type": "markdown",
   "metadata": {},
   "source": [
    "### Soru 0: (Opsiyonel)"
   ]
  },
  {
   "cell_type": "markdown",
   "metadata": {},
   "source": [
    "Buradaki matematiksel ifadeleri python ile yazmanızı bekliyoruz. Aşağıda yazılan fonksiyonların her biri size ekstra bazı puanlar kazandıracaktır."
   ]
  },
  {
   "cell_type": "markdown",
   "metadata": {},
   "source": [
    "![1.](1.jpg \"1\")"
   ]
  },
  {
   "cell_type": "code",
   "execution_count": null,
   "metadata": {},
   "outputs": [],
   "source": []
  },
  {
   "cell_type": "markdown",
   "metadata": {},
   "source": [
    "![3.](3.jpg \"3\")"
   ]
  },
  {
   "cell_type": "code",
   "execution_count": null,
   "metadata": {},
   "outputs": [],
   "source": []
  },
  {
   "cell_type": "markdown",
   "metadata": {},
   "source": [
    "![2.](2.jpg \"2\")"
   ]
  },
  {
   "cell_type": "code",
   "execution_count": null,
   "metadata": {},
   "outputs": [],
   "source": []
  },
  {
   "cell_type": "code",
   "execution_count": null,
   "metadata": {},
   "outputs": [],
   "source": []
  }
 ],
 "metadata": {
  "kernelspec": {
   "display_name": "Python 3",
   "language": "python",
   "name": "python3"
  },
  "language_info": {
   "codemirror_mode": {
    "name": "ipython",
    "version": 3
   },
   "file_extension": ".py",
   "mimetype": "text/x-python",
   "name": "python",
   "nbconvert_exporter": "python",
   "pygments_lexer": "ipython3",
   "version": "3.7.1"
  }
 },
 "nbformat": 4,
 "nbformat_minor": 2
}
